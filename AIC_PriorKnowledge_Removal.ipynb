{
 "cells": [
  {
   "cell_type": "code",
   "execution_count": 1,
   "id": "33abd20b",
   "metadata": {},
   "outputs": [],
   "source": [
    "import pandas as pd\n",
    "import os\n",
    "\n",
    "new_directory = (r"\\Coding\")\n",
    "os.chdir(new_directory)\n"
   ]
  },
  {
   "cell_type": "code",
   "execution_count": 2,
   "id": "687a513f",
   "metadata": {},
   "outputs": [],
   "source": [
    "#Import lists of IDs from csv files and convert to sets to remove duplicates.\n",
    "health_knowledge = pd.read_csv(\"AIC_health_knowledge_IDs.csv\")\n",
    "academic_knowledge = pd.read_csv(\"AIC_academic_knowledge_IDs.csv\")\n",
    "health_search = pd.read_csv(\"AIC_health_search_IDs.csv\")\n",
    "academic_search = pd.read_csv(\"AIC_academic_search_IDs.csv\")"
   ]
  },
  {
   "cell_type": "code",
   "execution_count": 3,
   "id": "5a5021db",
   "metadata": {},
   "outputs": [
    {
     "name": "stdout",
     "output_type": "stream",
     "text": [
      "10 common IDs between knowledge sets\n",
      "37 unique IDs in health_knowledge only\n",
      "5 unique IDs in academic_knowledge only\n"
     ]
    }
   ],
   "source": [
    "#Compare elements in sets to identify IDs common to both health and academic knowledge\n",
    "# Compare elements in the 'ID' column of both DataFrames\n",
    "common_elements_knowledge = set(health_knowledge['ID']).intersection(set(academic_knowledge['ID']))\n",
    "num_common_elements_knowledge = len(common_elements_knowledge)\n",
    "print(f'{num_common_elements_knowledge} common IDs between knowledge sets')\n",
    "\n",
    "# How many only in one list?\n",
    "# Calculate unique IDs in health_knowledge only\n",
    "unique_ids_health = set(health_knowledge['ID']) - set(academic_knowledge['ID'])\n",
    "# Calculate unique IDs in academic_knowledge only\n",
    "unique_ids_academic = set(academic_knowledge['ID']) - set(health_knowledge['ID'])\n",
    "# Get count of unique IDs in each set\n",
    "num_unique_health = len(unique_ids_health)\n",
    "num_unique_academic = len(unique_ids_academic)\n",
    "\n",
    "print(f\"{num_unique_health} unique IDs in health_knowledge only\")\n",
    "print(f\"{num_unique_academic} unique IDs in academic_knowledge only\")"
   ]
  },
  {
   "cell_type": "markdown",
   "id": "3d60f368",
   "metadata": {},
   "source": [
    "-10 common IDs exist between the knowledge sets. As the project is attempting to examine behaviors during novel topic investigation, those with previous knowledge of either topic will be removed from the associated analysis. "
   ]
  },
  {
   "cell_type": "code",
   "execution_count": 4,
   "id": "2e0c6b5e",
   "metadata": {
    "scrolled": true
   },
   "outputs": [
    {
     "name": "stdout",
     "output_type": "stream",
     "text": [
      "58 common IDs between search sets\n",
      "26 unique IDs in health_search only\n",
      "0 unique IDs in academic_search only\n"
     ]
    }
   ],
   "source": [
    "#Compare elements in sets to identify IDs common to both health and academic search behavior\n",
    "# Compare elements in the 'ID' column of both DataFrames\n",
    "common_elements_search = set(health_search['ID']).intersection(set(academic_search['ID']))\n",
    "num_common_elements_search = len(common_elements_search)\n",
    "print(f'{num_common_elements_search} common IDs between search sets')\n",
    "\n",
    "# How many only in one list?\n",
    "# Calculate unique IDs in health_search only\n",
    "unique_ids_health_search = set(health_search['ID']) - set(academic_search['ID'])\n",
    "# Calculate unique IDs in academic_search only\n",
    "unique_ids_academic_search = set(academic_search['ID']) - set(health_search['ID'])\n",
    "# Get count of unique IDs in each set\n",
    "num_unique_health_search = len(unique_ids_health_search)\n",
    "num_unique_academic_search = len(unique_ids_academic_search)\n",
    "\n",
    "print(f\"{num_unique_health_search} unique IDs in health_search only\")\n",
    "print(f\"{num_unique_academic_search} unique IDs in academic_search only\")"
   ]
  },
  {
   "cell_type": "markdown",
   "id": "4be0db82",
   "metadata": {},
   "source": [
    "-58 participants searched for information on both topics during the study.\n",
    "-26 participants searched for only information on the health topic during the study.\n",
    "-0 participants searched for only the academic information during the study."
   ]
  },
  {
   "cell_type": "code",
   "execution_count": 5,
   "id": "23157cb1",
   "metadata": {
    "scrolled": true
   },
   "outputs": [
    {
     "name": "stdout",
     "output_type": "stream",
     "text": [
      "IDs removed fully\n"
     ]
    }
   ],
   "source": [
    "#Load conjoint datasets\n",
    "health_conjoint = pd.read_csv(\"AIC_Health_Conjoint_Raw_filtered.csv\")\n",
    "academic_conjoint = pd.read_csv(\"AIC_Academic_Conjoint_Raw_filtered.csv\")\n",
    "\n",
    "# Remove those with prior health knowledge.\n",
    "common_elements_health_conjoint = list(set(health_knowledge['ID']).intersection(set(health_conjoint['ID'])))\n",
    "\n",
    "#Remove those on the list from the conjoint df\n",
    "health_conjoint_clean = health_conjoint[~health_conjoint['ID'].isin(common_elements_health_conjoint)]\n",
    "\n",
    "# Make sure IDs removed\n",
    "if health_conjoint['ID'].isin(health_knowledge).any():\n",
    "    print('IDs not fully removed')\n",
    "else:\n",
    "    print('IDs removed fully')\n"
   ]
  },
  {
   "cell_type": "code",
   "execution_count": 6,
   "id": "085f5422",
   "metadata": {},
   "outputs": [
    {
     "name": "stdout",
     "output_type": "stream",
     "text": [
      "[87922595, 83087460, 87316836, 83497955, 86835242, 86897183, 83252717, 88007696, 87886417, 83563505, 84772756, 83570293, 83467573, 86676702, 83565151]\n",
      "15\n",
      "IDs removed fully\n"
     ]
    }
   ],
   "source": [
    "common_elements_academic_conjoint = list(set(academic_knowledge['ID']).intersection(set(academic_conjoint['ID'])))\n",
    "print(common_elements_academic_conjoint)\n",
    "print(len(common_elements_academic_conjoint))\n",
    "\n",
    "#Remove those on the list from the conjoint df\n",
    "academic_conjoint_clean = academic_conjoint[~academic_conjoint['ID'].isin(common_elements_academic_conjoint)]\n",
    "\n",
    "# Make sure IDs removed\n",
    "if academic_conjoint['ID'].isin(academic_knowledge).any():\n",
    "    print('IDs not fully removed')\n",
    "else:\n",
    "    print('IDs removed fully')"
   ]
  },
  {
   "cell_type": "code",
   "execution_count": 7,
   "id": "b07888fb",
   "metadata": {},
   "outputs": [],
   "source": [
    "#Save cleaned conjoint datasets\n",
    "academic_conjoint.to_csv(\"academic_conjoint_knowledge_removed.csv\", index=False)\n",
    "health_conjoint.to_csv(\"health_conjoint_knowledge_removed.csv\", index=False)\n"
   ]
  },
  {
   "cell_type": "code",
   "execution_count": null,
   "id": "62577d29",
   "metadata": {},
   "outputs": [],
   "source": []
  }
 ],
 "metadata": {
  "kernelspec": {
   "display_name": "Python 3 (ipykernel)",
   "language": "python",
   "name": "python3"
  },
  "language_info": {
   "codemirror_mode": {
    "name": "ipython",
    "version": 3
   },
   "file_extension": ".py",
   "mimetype": "text/x-python",
   "name": "python",
   "nbconvert_exporter": "python",
   "pygments_lexer": "ipython3",
   "version": "3.9.7"
  }
 },
 "nbformat": 4,
 "nbformat_minor": 5
}
